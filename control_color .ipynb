{
  "cells": [
    {
      "cell_type": "markdown",
      "metadata": {
        "id": "2EYKBAVf82c6"
      },
      "source": [
        "##Control-Color (Pro Colab L4 😭)\n",
        "https://github.com/ZhexinLiang/Control-Color"
      ]
    },
    {
      "cell_type": "code",
      "execution_count": null,
      "metadata": {
        "id": "UrZg7awUlKdJ"
      },
      "outputs": [],
      "source": [
        "!git clone https://github.com/ZhexinLiang/Control-Color.git\n",
        "%cd Control-Color"
      ]
    },
    {
      "cell_type": "code",
      "execution_count": null,
      "metadata": {
        "id": "Fl7yJGjRwhT-"
      },
      "outputs": [],
      "source": [
        "!pip install torch torchvision torchaudio --index-url https://download.pytorch.org/whl/cu121"
      ]
    },
    {
      "cell_type": "code",
      "execution_count": null,
      "metadata": {
        "id": "hBPmI2AJr195"
      },
      "outputs": [],
      "source": [
        "!gdown --id \"1sYnRwm6aVs2rRlRukrVeeNqA14zdYSwi\" -O ./pretrained_models/\n",
        "!gdown --id \"1FZ-Hb_7DhfqvCUYmE-3JciW7MQ92iJsI\" -O ./pretrained_models/\n",
        "!gdown --id \"1IaeVo2mQg9RWAOpV9NloUJmQgjacMXjE\" -O ./"
      ]
    },
    {
      "cell_type": "code",
      "source": [
        "!pip3 install -r requirements.txt"
      ],
      "metadata": {
        "id": "DGyxfdfA5wFz"
      },
      "execution_count": null,
      "outputs": []
    },
    {
      "cell_type": "code",
      "execution_count": null,
      "metadata": {
        "id": "OmbiBhh_s8Gq"
      },
      "outputs": [],
      "source": [
        "%cd Control-Color\n",
        "!python test.py"
      ]
    }
  ],
  "metadata": {
    "accelerator": "GPU",
    "colab": {
      "gpuType": "L4",
      "machine_shape": "hm",
      "provenance": [],
      "toc_visible": true
    },
    "kernelspec": {
      "display_name": "Python 3",
      "name": "python3"
    },
    "language_info": {
      "name": "python"
    }
  },
  "nbformat": 4,
  "nbformat_minor": 0
}