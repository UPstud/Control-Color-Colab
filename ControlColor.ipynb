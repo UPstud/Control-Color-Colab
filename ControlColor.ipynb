{
  "cells": [
    {
      "cell_type": "markdown",
      "metadata": {
        "id": "2EYKBAVf82c6"
      },
      "source": [
        "<a href=\"https://colab.research.google.com/drive/1HzEGG7Wp4wrRSsAB0CcmclW3hmd1YQZD?usp=sharing\" rel=\"nofollow\"><img src=\"https://camo.githubusercontent.com/96889048f8a9014fdeba2a891f97150c6aac6e723f5190236b10215a97ed41f3/68747470733a2f2f636f6c61622e72657365617263682e676f6f676c652e636f6d2f6173736574732f636f6c61622d62616467652e737667\" alt=\"google colab logo\" data-canonical-src=\"https://colab.research.google.com/assets/colab-badge.svg\" style=\"max-width: 100%;\"></a>\n",
        "#Control-Color (Pro Colab L4 😭)\n",
        "https://github.com/ZhexinLiang/Control-Color"
      ]
    },
    {
      "cell_type": "code",
      "execution_count": null,
      "metadata": {
        "id": "UrZg7awUlKdJ"
      },
      "outputs": [],
      "source": [
        "!git clone https://github.com/ZhexinLiang/Control-Color.git\n",
        "%cd Control-Color"
      ]
    },
    {
      "cell_type": "code",
      "execution_count": null,
      "metadata": {
        "id": "Fl7yJGjRwhT-"
      },
      "outputs": [],
      "source": [
        "!pip install torch torchvision torchaudio --index-url https://download.pytorch.org/whl/cu121"
      ]
    },
    {
      "cell_type": "code",
      "execution_count": null,
      "metadata": {
        "id": "hBPmI2AJr195"
      },
      "outputs": [],
      "source": [
        "!gdown --id \"1sYnRwm6aVs2rRlRukrVeeNqA14zdYSwi\" -O ./pretrained_models/\n",
        "!gdown --id \"1FZ-Hb_7DhfqvCUYmE-3JciW7MQ92iJsI\" -O ./pretrained_models/\n",
        "!gdown --id \"1IaeVo2mQg9RWAOpV9NloUJmQgjacMXjE\" -O ./"
      ]
    },
    {
      "cell_type": "code",
      "source": [
        "!pip3 install -r requirements.txt"
      ],
      "metadata": {
        "id": "DGyxfdfA5wFz"
      },
      "execution_count": null,
      "outputs": []
    },
    {
      "cell_type": "code",
      "execution_count": null,
      "metadata": {
        "id": "OmbiBhh_s8Gq"
      },
      "outputs": [],
      "source": [
        "%cd Control-Color\n",
        "!python test.py"
      ]
    }
  ],
  "metadata": {
    "accelerator": "GPU",
    "colab": {
      "gpuType": "L4",
      "machine_shape": "hm",
      "provenance": []
    },
    "kernelspec": {
      "display_name": "Python 3",
      "name": "python3"
    },
    "language_info": {
      "name": "python"
    }
  },
  "nbformat": 4,
  "nbformat_minor": 0
}